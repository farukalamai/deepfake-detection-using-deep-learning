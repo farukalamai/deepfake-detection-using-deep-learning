{
  "nbformat": 4,
  "nbformat_minor": 0,
  "metadata": {
    "colab": {
      "provenance": [],
      "gpuType": "T4"
    },
    "kernelspec": {
      "name": "python3",
      "display_name": "Python 3"
    },
    "language_info": {
      "name": "python"
    },
    "accelerator": "GPU"
  },
  "cells": [
    {
      "cell_type": "code",
      "execution_count": null,
      "metadata": {
        "colab": {
          "base_uri": "https://localhost:8080/"
        },
        "id": "Yk3tm1DQYB_U",
        "outputId": "b1711e99-7d99-4561-b6c4-5748f3ecb30d"
      },
      "outputs": [
        {
          "output_type": "stream",
          "name": "stdout",
          "text": [
            "Collecting datasets\n",
            "  Downloading datasets-3.2.0-py3-none-any.whl.metadata (20 kB)\n",
            "Requirement already satisfied: timm in /usr/local/lib/python3.11/dist-packages (1.0.13)\n",
            "Requirement already satisfied: tqdm in /usr/local/lib/python3.11/dist-packages (4.67.1)\n",
            "Requirement already satisfied: torch in /usr/local/lib/python3.11/dist-packages (2.5.1+cu121)\n",
            "Requirement already satisfied: torchvision in /usr/local/lib/python3.11/dist-packages (0.20.1+cu121)\n",
            "Requirement already satisfied: transformers in /usr/local/lib/python3.11/dist-packages (4.47.1)\n",
            "Requirement already satisfied: filelock in /usr/local/lib/python3.11/dist-packages (from datasets) (3.16.1)\n",
            "Requirement already satisfied: numpy>=1.17 in /usr/local/lib/python3.11/dist-packages (from datasets) (1.26.4)\n",
            "Requirement already satisfied: pyarrow>=15.0.0 in /usr/local/lib/python3.11/dist-packages (from datasets) (17.0.0)\n",
            "Collecting dill<0.3.9,>=0.3.0 (from datasets)\n",
            "  Downloading dill-0.3.8-py3-none-any.whl.metadata (10 kB)\n",
            "Requirement already satisfied: pandas in /usr/local/lib/python3.11/dist-packages (from datasets) (2.2.2)\n",
            "Requirement already satisfied: requests>=2.32.2 in /usr/local/lib/python3.11/dist-packages (from datasets) (2.32.3)\n",
            "Collecting xxhash (from datasets)\n",
            "  Downloading xxhash-3.5.0-cp311-cp311-manylinux_2_17_x86_64.manylinux2014_x86_64.whl.metadata (12 kB)\n",
            "Collecting multiprocess<0.70.17 (from datasets)\n",
            "  Downloading multiprocess-0.70.16-py311-none-any.whl.metadata (7.2 kB)\n",
            "Collecting fsspec<=2024.9.0,>=2023.1.0 (from fsspec[http]<=2024.9.0,>=2023.1.0->datasets)\n",
            "  Downloading fsspec-2024.9.0-py3-none-any.whl.metadata (11 kB)\n",
            "Requirement already satisfied: aiohttp in /usr/local/lib/python3.11/dist-packages (from datasets) (3.11.11)\n",
            "Requirement already satisfied: huggingface-hub>=0.23.0 in /usr/local/lib/python3.11/dist-packages (from datasets) (0.27.1)\n",
            "Requirement already satisfied: packaging in /usr/local/lib/python3.11/dist-packages (from datasets) (24.2)\n",
            "Requirement already satisfied: pyyaml>=5.1 in /usr/local/lib/python3.11/dist-packages (from datasets) (6.0.2)\n",
            "Requirement already satisfied: safetensors in /usr/local/lib/python3.11/dist-packages (from timm) (0.5.2)\n",
            "Requirement already satisfied: typing-extensions>=4.8.0 in /usr/local/lib/python3.11/dist-packages (from torch) (4.12.2)\n",
            "Requirement already satisfied: networkx in /usr/local/lib/python3.11/dist-packages (from torch) (3.4.2)\n",
            "Requirement already satisfied: jinja2 in /usr/local/lib/python3.11/dist-packages (from torch) (3.1.5)\n",
            "Requirement already satisfied: nvidia-cuda-nvrtc-cu12==12.1.105 in /usr/local/lib/python3.11/dist-packages (from torch) (12.1.105)\n",
            "Requirement already satisfied: nvidia-cuda-runtime-cu12==12.1.105 in /usr/local/lib/python3.11/dist-packages (from torch) (12.1.105)\n",
            "Requirement already satisfied: nvidia-cuda-cupti-cu12==12.1.105 in /usr/local/lib/python3.11/dist-packages (from torch) (12.1.105)\n",
            "Requirement already satisfied: nvidia-cudnn-cu12==9.1.0.70 in /usr/local/lib/python3.11/dist-packages (from torch) (9.1.0.70)\n",
            "Requirement already satisfied: nvidia-cublas-cu12==12.1.3.1 in /usr/local/lib/python3.11/dist-packages (from torch) (12.1.3.1)\n",
            "Requirement already satisfied: nvidia-cufft-cu12==11.0.2.54 in /usr/local/lib/python3.11/dist-packages (from torch) (11.0.2.54)\n",
            "Requirement already satisfied: nvidia-curand-cu12==10.3.2.106 in /usr/local/lib/python3.11/dist-packages (from torch) (10.3.2.106)\n",
            "Requirement already satisfied: nvidia-cusolver-cu12==11.4.5.107 in /usr/local/lib/python3.11/dist-packages (from torch) (11.4.5.107)\n",
            "Requirement already satisfied: nvidia-cusparse-cu12==12.1.0.106 in /usr/local/lib/python3.11/dist-packages (from torch) (12.1.0.106)\n",
            "Requirement already satisfied: nvidia-nccl-cu12==2.21.5 in /usr/local/lib/python3.11/dist-packages (from torch) (2.21.5)\n",
            "Requirement already satisfied: nvidia-nvtx-cu12==12.1.105 in /usr/local/lib/python3.11/dist-packages (from torch) (12.1.105)\n",
            "Requirement already satisfied: triton==3.1.0 in /usr/local/lib/python3.11/dist-packages (from torch) (3.1.0)\n",
            "Requirement already satisfied: sympy==1.13.1 in /usr/local/lib/python3.11/dist-packages (from torch) (1.13.1)\n",
            "Requirement already satisfied: nvidia-nvjitlink-cu12 in /usr/local/lib/python3.11/dist-packages (from nvidia-cusolver-cu12==11.4.5.107->torch) (12.6.85)\n",
            "Requirement already satisfied: mpmath<1.4,>=1.1.0 in /usr/local/lib/python3.11/dist-packages (from sympy==1.13.1->torch) (1.3.0)\n",
            "Requirement already satisfied: pillow!=8.3.*,>=5.3.0 in /usr/local/lib/python3.11/dist-packages (from torchvision) (11.1.0)\n",
            "Requirement already satisfied: regex!=2019.12.17 in /usr/local/lib/python3.11/dist-packages (from transformers) (2024.11.6)\n",
            "Requirement already satisfied: tokenizers<0.22,>=0.21 in /usr/local/lib/python3.11/dist-packages (from transformers) (0.21.0)\n",
            "Requirement already satisfied: aiohappyeyeballs>=2.3.0 in /usr/local/lib/python3.11/dist-packages (from aiohttp->datasets) (2.4.4)\n",
            "Requirement already satisfied: aiosignal>=1.1.2 in /usr/local/lib/python3.11/dist-packages (from aiohttp->datasets) (1.3.2)\n",
            "Requirement already satisfied: attrs>=17.3.0 in /usr/local/lib/python3.11/dist-packages (from aiohttp->datasets) (24.3.0)\n",
            "Requirement already satisfied: frozenlist>=1.1.1 in /usr/local/lib/python3.11/dist-packages (from aiohttp->datasets) (1.5.0)\n",
            "Requirement already satisfied: multidict<7.0,>=4.5 in /usr/local/lib/python3.11/dist-packages (from aiohttp->datasets) (6.1.0)\n",
            "Requirement already satisfied: propcache>=0.2.0 in /usr/local/lib/python3.11/dist-packages (from aiohttp->datasets) (0.2.1)\n",
            "Requirement already satisfied: yarl<2.0,>=1.17.0 in /usr/local/lib/python3.11/dist-packages (from aiohttp->datasets) (1.18.3)\n",
            "Requirement already satisfied: charset-normalizer<4,>=2 in /usr/local/lib/python3.11/dist-packages (from requests>=2.32.2->datasets) (3.4.1)\n",
            "Requirement already satisfied: idna<4,>=2.5 in /usr/local/lib/python3.11/dist-packages (from requests>=2.32.2->datasets) (3.10)\n",
            "Requirement already satisfied: urllib3<3,>=1.21.1 in /usr/local/lib/python3.11/dist-packages (from requests>=2.32.2->datasets) (2.3.0)\n",
            "Requirement already satisfied: certifi>=2017.4.17 in /usr/local/lib/python3.11/dist-packages (from requests>=2.32.2->datasets) (2024.12.14)\n",
            "Requirement already satisfied: MarkupSafe>=2.0 in /usr/local/lib/python3.11/dist-packages (from jinja2->torch) (3.0.2)\n",
            "Requirement already satisfied: python-dateutil>=2.8.2 in /usr/local/lib/python3.11/dist-packages (from pandas->datasets) (2.8.2)\n",
            "Requirement already satisfied: pytz>=2020.1 in /usr/local/lib/python3.11/dist-packages (from pandas->datasets) (2024.2)\n",
            "Requirement already satisfied: tzdata>=2022.7 in /usr/local/lib/python3.11/dist-packages (from pandas->datasets) (2024.2)\n",
            "Requirement already satisfied: six>=1.5 in /usr/local/lib/python3.11/dist-packages (from python-dateutil>=2.8.2->pandas->datasets) (1.17.0)\n",
            "Downloading datasets-3.2.0-py3-none-any.whl (480 kB)\n",
            "\u001b[2K   \u001b[90m━━━━━━━━━━━━━━━━━━━━━━━━━━━━━━━━━━━━━━━━\u001b[0m \u001b[32m480.6/480.6 kB\u001b[0m \u001b[31m11.5 MB/s\u001b[0m eta \u001b[36m0:00:00\u001b[0m\n",
            "\u001b[?25hDownloading dill-0.3.8-py3-none-any.whl (116 kB)\n",
            "\u001b[2K   \u001b[90m━━━━━━━━━━━━━━━━━━━━━━━━━━━━━━━━━━━━━━━━\u001b[0m \u001b[32m116.3/116.3 kB\u001b[0m \u001b[31m8.7 MB/s\u001b[0m eta \u001b[36m0:00:00\u001b[0m\n",
            "\u001b[?25hDownloading fsspec-2024.9.0-py3-none-any.whl (179 kB)\n",
            "\u001b[2K   \u001b[90m━━━━━━━━━━━━━━━━━━━━━━━━━━━━━━━━━━━━━━━━\u001b[0m \u001b[32m179.3/179.3 kB\u001b[0m \u001b[31m11.8 MB/s\u001b[0m eta \u001b[36m0:00:00\u001b[0m\n",
            "\u001b[?25hDownloading multiprocess-0.70.16-py311-none-any.whl (143 kB)\n",
            "\u001b[2K   \u001b[90m━━━━━━━━━━━━━━━━━━━━━━━━━━━━━━━━━━━━━━━━\u001b[0m \u001b[32m143.5/143.5 kB\u001b[0m \u001b[31m12.0 MB/s\u001b[0m eta \u001b[36m0:00:00\u001b[0m\n",
            "\u001b[?25hDownloading xxhash-3.5.0-cp311-cp311-manylinux_2_17_x86_64.manylinux2014_x86_64.whl (194 kB)\n",
            "\u001b[2K   \u001b[90m━━━━━━━━━━━━━━━━━━━━━━━━━━━━━━━━━━━━━━━━\u001b[0m \u001b[32m194.8/194.8 kB\u001b[0m \u001b[31m16.2 MB/s\u001b[0m eta \u001b[36m0:00:00\u001b[0m\n",
            "\u001b[?25hInstalling collected packages: xxhash, fsspec, dill, multiprocess, datasets\n",
            "  Attempting uninstall: fsspec\n",
            "    Found existing installation: fsspec 2024.10.0\n",
            "    Uninstalling fsspec-2024.10.0:\n",
            "      Successfully uninstalled fsspec-2024.10.0\n",
            "\u001b[31mERROR: pip's dependency resolver does not currently take into account all the packages that are installed. This behaviour is the source of the following dependency conflicts.\n",
            "gcsfs 2024.10.0 requires fsspec==2024.10.0, but you have fsspec 2024.9.0 which is incompatible.\u001b[0m\u001b[31m\n",
            "\u001b[0mSuccessfully installed datasets-3.2.0 dill-0.3.8 fsspec-2024.9.0 multiprocess-0.70.16 xxhash-3.5.0\n"
          ]
        }
      ],
      "source": [
        "!pip install datasets timm tqdm torch torchvision transformers"
      ]
    },
    {
      "cell_type": "code",
      "source": [
        "from google.colab import drive\n",
        "drive.mount('/content/drive')"
      ],
      "metadata": {
        "id": "qFpncmGsYQLV"
      },
      "execution_count": null,
      "outputs": []
    },
    {
      "cell_type": "code",
      "source": [
        "from torchvision import models, transforms\n",
        "import torch\n",
        "import torch.nn as nn\n",
        "from torch.utils.data import Dataset, DataLoader\n",
        "from datasets import load_dataset\n",
        "from sklearn.metrics import accuracy_score, precision_recall_fscore_support, confusion_matrix, classification_report\n",
        "from tqdm import tqdm\n",
        "import os\n",
        "from PIL import Image\n",
        "import timm\n",
        "import numpy as np\n",
        "import matplotlib.pyplot as plt\n",
        "import seaborn as sns"
      ],
      "metadata": {
        "id": "GyDJeC3gYQNc"
      },
      "execution_count": null,
      "outputs": []
    },
    {
      "cell_type": "code",
      "source": [
        "train_dataset_path = \"/content/drive/MyDrive/deepfake/train\"\n",
        "val_dataset_path = \"/content/drive/MyDrive/deepfake/val\"\n",
        "test_dataset_path = \"/content/drive/MyDrive/deepfake/test\""
      ],
      "metadata": {
        "id": "xDvrHFa-YQQA"
      },
      "execution_count": null,
      "outputs": []
    },
    {
      "cell_type": "code",
      "source": [
        "class DeepfakeDataset(Dataset):\n",
        "   def __init__(self, root_dir, transform=None):\n",
        "       self.root_dir = root_dir\n",
        "       self.transform = transform\n",
        "       self.images = []\n",
        "       self.labels = []\n",
        "\n",
        "       # Load real images\n",
        "       real_dir = os.path.join(root_dir, 'real')\n",
        "       for img_name in os.listdir(real_dir):\n",
        "           if img_name.lower().endswith(('.png', '.jpg', '.jpeg')):\n",
        "               self.images.append(os.path.join(real_dir, img_name))\n",
        "               self.labels.append(0)\n",
        "\n",
        "       # Load fake images\n",
        "       fake_dir = os.path.join(root_dir, 'fake')\n",
        "       for img_name in os.listdir(fake_dir):\n",
        "           if img_name.lower().endswith(('.png', '.jpg', '.jpeg')):\n",
        "               self.images.append(os.path.join(fake_dir, img_name))\n",
        "               self.labels.append(1)\n",
        "\n",
        "   def __len__(self):\n",
        "       return len(self.images)\n",
        "\n",
        "   def __getitem__(self, idx):\n",
        "       img_path = self.images[idx]\n",
        "       image = Image.open(img_path).convert('RGB')\n",
        "       label = self.labels[idx]\n",
        "\n",
        "       if self.transform:\n",
        "           image = self.transform(image)\n",
        "       return image, label\n",
        "\n",
        "def train_model():\n",
        "   BATCH_SIZE = 16\n",
        "   EPOCHS = 10\n",
        "   LEARNING_RATE = 0.001\n",
        "\n",
        "   device = torch.device('cuda' if torch.cuda.is_available() else 'cpu')\n",
        "   print(f\"Using device: {device}\")\n",
        "\n",
        "   transform = transforms.Compose([\n",
        "       transforms.ToTensor(),\n",
        "       transforms.Resize((299, 299), antialias=True),\n",
        "       transforms.Normalize([0.5, 0.5, 0.5], [0.5, 0.5, 0.5])\n",
        "   ])\n",
        "\n",
        "   train_dataset = DeepfakeDataset(root_dir=train_dataset_path, transform=transform)\n",
        "   val_dataset = DeepfakeDataset(root_dir=val_dataset_path, transform=transform)\n",
        "   test_dataset = DeepfakeDataset(root_dir=test_dataset_path, transform=transform)\n",
        "\n",
        "   train_loader = DataLoader(train_dataset, batch_size=BATCH_SIZE, shuffle=True)\n",
        "   val_loader = DataLoader(val_dataset, batch_size=BATCH_SIZE)\n",
        "   test_loader = DataLoader(test_dataset, batch_size=BATCH_SIZE)\n",
        "\n",
        "   model = models.inception_v3(weights=models.Inception_V3_Weights.IMAGENET1K_V1)\n",
        "   num_ftrs = model.fc.in_features\n",
        "   model.fc = nn.Linear(num_ftrs, 2)\n",
        "   model = model.to(device)\n",
        "\n",
        "   criterion = nn.CrossEntropyLoss()\n",
        "   optimizer = torch.optim.Adam(model.parameters(), lr=LEARNING_RATE)\n",
        "   scheduler = torch.optim.lr_scheduler.ReduceLROnPlateau(optimizer, mode='min', patience=2)\n",
        "\n",
        "   best_val_acc = 0.0\n",
        "   train_losses, val_losses = [], []\n",
        "   train_accs, val_accs = [], []\n",
        "\n",
        "   for epoch in range(EPOCHS):\n",
        "       print(f\"\\nEpoch {epoch+1}/{EPOCHS}\")\n",
        "\n",
        "       # Training\n",
        "       model.train()\n",
        "       train_loss = 0\n",
        "       train_correct = 0\n",
        "       train_total = 0\n",
        "\n",
        "       for images, labels in tqdm(train_loader, desc=\"Training\"):\n",
        "           images, labels = images.to(device), labels.to(device)\n",
        "\n",
        "           optimizer.zero_grad()\n",
        "           outputs = model(images)\n",
        "           # Handle auxiliary outputs for inception_v3\n",
        "           if isinstance(outputs, tuple):\n",
        "               outputs = outputs[0]\n",
        "           loss = criterion(outputs, labels)\n",
        "           loss.backward()\n",
        "           optimizer.step()\n",
        "\n",
        "           train_loss += loss.item()\n",
        "           _, predicted = torch.max(outputs.data, 1)\n",
        "           train_total += labels.size(0)\n",
        "           train_correct += (predicted == labels).sum().item()\n",
        "\n",
        "       epoch_train_loss = train_loss/len(train_loader)\n",
        "       epoch_train_acc = 100 * train_correct / train_total\n",
        "       train_losses.append(epoch_train_loss)\n",
        "       train_accs.append(epoch_train_acc)\n",
        "\n",
        "       print(f'Training Loss: {epoch_train_loss:.4f}, Accuracy: {epoch_train_acc:.2f}%')\n",
        "\n",
        "       # Validation\n",
        "       model.eval()\n",
        "       val_loss = 0\n",
        "       val_correct = 0\n",
        "       val_total = 0\n",
        "\n",
        "       with torch.no_grad():\n",
        "           for images, labels in tqdm(val_loader, desc=\"Validation\"):\n",
        "               images, labels = images.to(device), labels.to(device)\n",
        "               outputs = model(images)\n",
        "               loss = criterion(outputs, labels)\n",
        "               val_loss += loss.item()\n",
        "\n",
        "               _, predicted = torch.max(outputs.data, 1)\n",
        "               val_total += labels.size(0)\n",
        "               val_correct += (predicted == labels).sum().item()\n",
        "\n",
        "       epoch_val_loss = val_loss/len(val_loader)\n",
        "       epoch_val_acc = 100 * val_correct / val_total\n",
        "       val_losses.append(epoch_val_loss)\n",
        "       val_accs.append(epoch_val_acc)\n",
        "\n",
        "       print(f'Validation Loss: {epoch_val_loss:.4f}, Accuracy: {epoch_val_acc:.2f}%')\n",
        "       scheduler.step(epoch_val_loss)\n",
        "\n",
        "       # Plot metrics\n",
        "       plt.figure(figsize=(12, 4))\n",
        "       plt.subplot(1, 2, 1)\n",
        "       plt.plot(train_losses, label='Training Loss')\n",
        "       plt.plot(val_losses, label='Validation Loss')\n",
        "       plt.title('Losses over epochs')\n",
        "       plt.xlabel('Epoch')\n",
        "       plt.ylabel('Loss')\n",
        "       plt.legend()\n",
        "\n",
        "       plt.subplot(1, 2, 2)\n",
        "       plt.plot(train_accs, label='Training Accuracy')\n",
        "       plt.plot(val_accs, label='Validation Accuracy')\n",
        "       plt.title('Accuracies over epochs')\n",
        "       plt.xlabel('Epoch')\n",
        "       plt.ylabel('Accuracy (%)')\n",
        "       plt.legend()\n",
        "\n",
        "       plt.tight_layout()\n",
        "       plt.savefig(f'training_metrics_epoch_{epoch}.png')\n",
        "       plt.close()\n",
        "\n",
        "       if epoch_val_acc > best_val_acc:\n",
        "           best_val_acc = epoch_val_acc\n",
        "           torch.save({\n",
        "               'epoch': epoch,\n",
        "               'model_state_dict': model.state_dict(),\n",
        "               'optimizer_state_dict': optimizer.state_dict(),\n",
        "               'val_acc': epoch_val_acc,\n",
        "           }, 'inception_v3_best_model.pth')\n",
        "           print(f'Saved new best model with validation accuracy: {epoch_val_acc:.2f}%')\n",
        "\n",
        "\n",
        "if __name__ == '__main__':\n",
        "   train_model()"
      ],
      "metadata": {
        "colab": {
          "base_uri": "https://localhost:8080/"
        },
        "id": "0KohKixIYQVR",
        "outputId": "5e1bc834-e7d3-4686-d115-15d98c9bb525"
      },
      "execution_count": null,
      "outputs": [
        {
          "output_type": "stream",
          "name": "stdout",
          "text": [
            "Using device: cuda\n"
          ]
        },
        {
          "output_type": "stream",
          "name": "stderr",
          "text": [
            "Downloading: \"https://download.pytorch.org/models/inception_v3_google-0cc3c7bd.pth\" to /root/.cache/torch/hub/checkpoints/inception_v3_google-0cc3c7bd.pth\n",
            "100%|██████████| 104M/104M [00:00<00:00, 149MB/s] \n"
          ]
        },
        {
          "output_type": "stream",
          "name": "stdout",
          "text": [
            "\n",
            "Epoch 1/10\n"
          ]
        },
        {
          "output_type": "stream",
          "name": "stderr",
          "text": [
            "Training: 100%|██████████| 25/25 [01:55<00:00,  4.61s/it]\n"
          ]
        },
        {
          "output_type": "stream",
          "name": "stdout",
          "text": [
            "Training Loss: 0.1680, Accuracy: 91.50%\n"
          ]
        },
        {
          "output_type": "stream",
          "name": "stderr",
          "text": [
            "Validation: 100%|██████████| 7/7 [00:53<00:00,  7.66s/it]\n"
          ]
        },
        {
          "output_type": "stream",
          "name": "stdout",
          "text": [
            "Validation Loss: 1.3209, Accuracy: 59.00%\n",
            "Saved new best model with validation accuracy: 59.00%\n",
            "\n",
            "Epoch 2/10\n"
          ]
        },
        {
          "output_type": "stream",
          "name": "stderr",
          "text": [
            "Training: 100%|██████████| 25/25 [00:08<00:00,  2.84it/s]\n"
          ]
        },
        {
          "output_type": "stream",
          "name": "stdout",
          "text": [
            "Training Loss: 0.0265, Accuracy: 99.50%\n"
          ]
        },
        {
          "output_type": "stream",
          "name": "stderr",
          "text": [
            "Validation: 100%|██████████| 7/7 [00:01<00:00,  6.82it/s]\n"
          ]
        },
        {
          "output_type": "stream",
          "name": "stdout",
          "text": [
            "Validation Loss: 5.7192, Accuracy: 3.00%\n",
            "\n",
            "Epoch 3/10\n"
          ]
        },
        {
          "output_type": "stream",
          "name": "stderr",
          "text": [
            "Training: 100%|██████████| 25/25 [00:08<00:00,  2.94it/s]\n"
          ]
        },
        {
          "output_type": "stream",
          "name": "stdout",
          "text": [
            "Training Loss: 0.0017, Accuracy: 100.00%\n"
          ]
        },
        {
          "output_type": "stream",
          "name": "stderr",
          "text": [
            "Validation: 100%|██████████| 7/7 [00:01<00:00,  6.04it/s]\n"
          ]
        },
        {
          "output_type": "stream",
          "name": "stdout",
          "text": [
            "Validation Loss: 7.1752, Accuracy: 0.00%\n",
            "\n",
            "Epoch 4/10\n"
          ]
        },
        {
          "output_type": "stream",
          "name": "stderr",
          "text": [
            "Training: 100%|██████████| 25/25 [00:08<00:00,  3.02it/s]\n"
          ]
        },
        {
          "output_type": "stream",
          "name": "stdout",
          "text": [
            "Training Loss: 0.0814, Accuracy: 97.50%\n"
          ]
        },
        {
          "output_type": "stream",
          "name": "stderr",
          "text": [
            "Validation: 100%|██████████| 7/7 [00:01<00:00,  6.47it/s]\n"
          ]
        },
        {
          "output_type": "stream",
          "name": "stdout",
          "text": [
            "Validation Loss: 3.5170, Accuracy: 50.00%\n",
            "\n",
            "Epoch 5/10\n"
          ]
        },
        {
          "output_type": "stream",
          "name": "stderr",
          "text": [
            "Training: 100%|██████████| 25/25 [00:08<00:00,  2.95it/s]\n"
          ]
        },
        {
          "output_type": "stream",
          "name": "stdout",
          "text": [
            "Training Loss: 0.0044, Accuracy: 100.00%\n"
          ]
        },
        {
          "output_type": "stream",
          "name": "stderr",
          "text": [
            "Validation: 100%|██████████| 7/7 [00:00<00:00,  7.02it/s]\n"
          ]
        },
        {
          "output_type": "stream",
          "name": "stdout",
          "text": [
            "Validation Loss: 3.3710, Accuracy: 50.00%\n",
            "\n",
            "Epoch 6/10\n"
          ]
        },
        {
          "output_type": "stream",
          "name": "stderr",
          "text": [
            "Training: 100%|██████████| 25/25 [00:08<00:00,  2.82it/s]\n"
          ]
        },
        {
          "output_type": "stream",
          "name": "stdout",
          "text": [
            "Training Loss: 0.0131, Accuracy: 100.00%\n"
          ]
        },
        {
          "output_type": "stream",
          "name": "stderr",
          "text": [
            "Validation: 100%|██████████| 7/7 [00:01<00:00,  6.79it/s]\n"
          ]
        },
        {
          "output_type": "stream",
          "name": "stdout",
          "text": [
            "Validation Loss: 4.5432, Accuracy: 49.00%\n",
            "\n",
            "Epoch 7/10\n"
          ]
        },
        {
          "output_type": "stream",
          "name": "stderr",
          "text": [
            "Training: 100%|██████████| 25/25 [00:08<00:00,  3.01it/s]\n"
          ]
        },
        {
          "output_type": "stream",
          "name": "stdout",
          "text": [
            "Training Loss: 0.0687, Accuracy: 99.00%\n"
          ]
        },
        {
          "output_type": "stream",
          "name": "stderr",
          "text": [
            "Validation: 100%|██████████| 7/7 [00:01<00:00,  5.72it/s]\n"
          ]
        },
        {
          "output_type": "stream",
          "name": "stdout",
          "text": [
            "Validation Loss: 1.3182, Accuracy: 46.00%\n",
            "\n",
            "Epoch 8/10\n"
          ]
        },
        {
          "output_type": "stream",
          "name": "stderr",
          "text": [
            "Training: 100%|██████████| 25/25 [00:08<00:00,  3.02it/s]\n"
          ]
        },
        {
          "output_type": "stream",
          "name": "stdout",
          "text": [
            "Training Loss: 0.0242, Accuracy: 99.50%\n"
          ]
        },
        {
          "output_type": "stream",
          "name": "stderr",
          "text": [
            "Validation: 100%|██████████| 7/7 [00:01<00:00,  6.58it/s]\n"
          ]
        },
        {
          "output_type": "stream",
          "name": "stdout",
          "text": [
            "Validation Loss: 4.6905, Accuracy: 50.00%\n",
            "\n",
            "Epoch 9/10\n"
          ]
        },
        {
          "output_type": "stream",
          "name": "stderr",
          "text": [
            "Training: 100%|██████████| 25/25 [00:08<00:00,  2.93it/s]\n"
          ]
        },
        {
          "output_type": "stream",
          "name": "stdout",
          "text": [
            "Training Loss: 0.0243, Accuracy: 99.25%\n"
          ]
        },
        {
          "output_type": "stream",
          "name": "stderr",
          "text": [
            "Validation: 100%|██████████| 7/7 [00:01<00:00,  6.62it/s]\n"
          ]
        },
        {
          "output_type": "stream",
          "name": "stdout",
          "text": [
            "Validation Loss: 7.9062, Accuracy: 45.00%\n",
            "\n",
            "Epoch 10/10\n"
          ]
        },
        {
          "output_type": "stream",
          "name": "stderr",
          "text": [
            "Training: 100%|██████████| 25/25 [00:08<00:00,  2.98it/s]\n"
          ]
        },
        {
          "output_type": "stream",
          "name": "stdout",
          "text": [
            "Training Loss: 0.0134, Accuracy: 99.75%\n"
          ]
        },
        {
          "output_type": "stream",
          "name": "stderr",
          "text": [
            "Validation: 100%|██████████| 7/7 [00:01<00:00,  6.78it/s]\n"
          ]
        },
        {
          "output_type": "stream",
          "name": "stdout",
          "text": [
            "Validation Loss: 9.2104, Accuracy: 50.00%\n"
          ]
        }
      ]
    },
    {
      "cell_type": "code",
      "source": [
        "# Load and display the final epoch's metrics\n",
        "import matplotlib.pyplot as plt\n",
        "import matplotlib.image as mpimg\n",
        "\n",
        "img = mpimg.imread('training_metrics_epoch_9.png')  # Assuming 10 epochs (0-9)\n",
        "plt.figure(figsize=(15,5))\n",
        "plt.imshow(img)\n",
        "plt.axis('off')\n",
        "plt.show()"
      ],
      "metadata": {
        "colab": {
          "base_uri": "https://localhost:8080/",
          "height": 422
        },
        "id": "DG42NJSCaBhm",
        "outputId": "4e259c65-34d0-46f7-90ae-1d502c9d0eb3"
      },
      "execution_count": null,
      "outputs": [
        {
          "output_type": "display_data",
          "data": {
            "text/plain": [
              "<Figure size 1500x500 with 1 Axes>"
            ],
            "image/png": "[encoded data removed]"
          },
          "metadata": {}
        }
      ]
    },
    {
      "cell_type": "markdown",
      "source": [
        "# Sample Prediction"
      ],
      "metadata": {
        "id": "r2ZyTI1jaGo5"
      }
    },
    {
      "cell_type": "code",
      "source": [
        "def predict_image(image_path, model_path):\n",
        "   device = torch.device('cuda' if torch.cuda.is_available() else 'cpu')\n",
        "\n",
        "   transform = transforms.Compose([\n",
        "       transforms.ToTensor(),\n",
        "       transforms.Resize((299, 299), antialias=True),\n",
        "       transforms.Normalize([0.5, 0.5, 0.5], [0.5, 0.5, 0.5])\n",
        "   ])\n",
        "\n",
        "   model = models.inception_v3()\n",
        "   model.fc = nn.Linear(model.fc.in_features, 2)\n",
        "   model.load_state_dict(torch.load(model_path)['model_state_dict'])\n",
        "   model.to(device)\n",
        "   model.eval()\n",
        "\n",
        "   image = Image.open(image_path).convert('RGB')\n",
        "   image = transform(image).unsqueeze(0).to(device)\n",
        "\n",
        "   with torch.no_grad():\n",
        "       output = model(image)\n",
        "       _, predicted = torch.max(output.data, 1)\n",
        "       prob = torch.softmax(output, 1)\n",
        "\n",
        "   result = 'Fake' if predicted.item() == 1 else 'Real'\n",
        "   confidence = prob[0][predicted.item()].item() * 100\n",
        "\n",
        "   return result, confidence\n",
        "\n",
        "# For single image prediction\n",
        "result, confidence = predict_image('/content/drive/MyDrive/deepfake/test/real/311.png', 'inception_v3_best_model.pth')\n",
        "print(f'Prediction: {result} (Confidence: {confidence:.2f}%)')"
      ],
      "metadata": {
        "colab": {
          "base_uri": "https://localhost:8080/"
        },
        "id": "3L9n4UTMaCdz",
        "outputId": "0a3790fb-ee17-4755-9c65-2bcccc599b18"
      },
      "execution_count": null,
      "outputs": [
        {
          "output_type": "stream",
          "name": "stderr",
          "text": [
            "<ipython-input-8-36b2875209c6>:12: FutureWarning: You are using `torch.load` with `weights_only=False` (the current default value), which uses the default pickle module implicitly. It is possible to construct malicious pickle data which will execute arbitrary code during unpickling (See https://github.com/pytorch/pytorch/blob/main/SECURITY.md#untrusted-models for more details). In a future release, the default value for `weights_only` will be flipped to `True`. This limits the functions that could be executed during unpickling. Arbitrary objects will no longer be allowed to be loaded via this mode unless they are explicitly allowlisted by the user via `torch.serialization.add_safe_globals`. We recommend you start setting `weights_only=True` for any use case where you don't have full control of the loaded file. Please open an issue on GitHub for any issues related to this experimental feature.\n",
            "  model.load_state_dict(torch.load(model_path)['model_state_dict'])\n"
          ]
        },
        {
          "output_type": "stream",
          "name": "stdout",
          "text": [
            "Prediction: Fake (Confidence: 94.43%)\n"
          ]
        }
      ]
    },
    {
      "cell_type": "markdown",
      "source": [
        "# Confusion Matrix"
      ],
      "metadata": {
        "id": "JB3P5zLtcGA9"
      }
    },
    {
      "cell_type": "code",
      "source": [
        "class TestDataset(Dataset):\n",
        "    def __init__(self, test_dir, transform=None):\n",
        "        self.test_dir = test_dir\n",
        "        self.transform = transform\n",
        "        self.images = []\n",
        "        self.labels = []\n",
        "\n",
        "        real_dir = os.path.join(test_dir, 'real')\n",
        "        for img_name in os.listdir(real_dir):\n",
        "            if img_name.lower().endswith(('.png', '.jpg', '.jpeg')):\n",
        "                self.images.append(os.path.join(real_dir, img_name))\n",
        "                self.labels.append(0)\n",
        "\n",
        "        fake_dir = os.path.join(test_dir, 'fake')\n",
        "        for img_name in os.listdir(fake_dir):\n",
        "            if img_name.lower().endswith(('.png', '.jpg', '.jpeg')):\n",
        "                self.images.append(os.path.join(fake_dir, img_name))\n",
        "                self.labels.append(1)\n",
        "\n",
        "    def __len__(self):\n",
        "        return len(self.images)\n",
        "\n",
        "    def __getitem__(self, idx):\n",
        "        img_path = self.images[idx]\n",
        "        image = Image.open(img_path).convert('RGB')\n",
        "        label = self.labels[idx]\n",
        "\n",
        "        if self.transform:\n",
        "            image = self.transform(image)\n",
        "        return image, label\n",
        "\n",
        "def evaluate_model():\n",
        "   transform = transforms.Compose([\n",
        "       transforms.ToTensor(),\n",
        "       transforms.Resize((299, 299), antialias=True),\n",
        "       transforms.Normalize([0.5, 0.5, 0.5], [0.5, 0.5, 0.5])\n",
        "   ])\n",
        "\n",
        "   test_dataset = DeepfakeDataset(test_dataset_path, transform=transform)\n",
        "   test_loader = DataLoader(test_dataset, batch_size=16, shuffle=False)\n",
        "\n",
        "   device = torch.device('cuda' if torch.cuda.is_available() else 'cpu')\n",
        "   model = models.inception_v3()\n",
        "   model.fc = nn.Linear(model.fc.in_features, 2)\n",
        "   model.load_state_dict(torch.load('inception_v3_best_model.pth')['model_state_dict'])\n",
        "   model = model.to(device)\n",
        "   model.eval()\n",
        "\n",
        "   all_preds = []\n",
        "   all_labels = []\n",
        "\n",
        "   with torch.no_grad():\n",
        "       for images, labels in tqdm(test_loader, desc=\"Evaluating\"):\n",
        "           images = images.to(device)\n",
        "           outputs = model(images)\n",
        "           _, predicted = torch.max(outputs.data, 1)\n",
        "           all_preds.extend(predicted.cpu().numpy())\n",
        "           all_labels.extend(labels.numpy())\n",
        "\n",
        "   cm = confusion_matrix(all_labels, all_preds)\n",
        "   plt.figure(figsize=(8, 6))\n",
        "   sns.heatmap(cm, annot=True, fmt='d', cmap='Blues',\n",
        "               xticklabels=['Real', 'Fake'],\n",
        "               yticklabels=['Real', 'Fake'])\n",
        "   plt.title('Confusion Matrix')\n",
        "   plt.ylabel('True Label')\n",
        "   plt.xlabel('Predicted Label')\n",
        "   plt.show()\n",
        "\n",
        "   print('\\nClassification Report:')\n",
        "   print(classification_report(all_labels, all_preds, target_names=['Real', 'Fake']))\n",
        "\n",
        "if __name__ == '__main__':\n",
        "   # For evaluation\n",
        "   evaluate_model()\n"
      ],
      "metadata": {
        "colab": {
          "base_uri": "https://localhost:8080/",
          "height": 862
        },
        "id": "ZMc7zJM7ZD-g",
        "outputId": "eaf4b00c-1fee-4ac9-8c1d-29ed41c1831e"
      },
      "execution_count": null,
      "outputs": [
        {
          "output_type": "stream",
          "name": "stderr",
          "text": [
            "/usr/local/lib/python3.11/dist-packages/torchvision/models/inception.py:43: FutureWarning: The default weight initialization of inception_v3 will be changed in future releases of torchvision. If you wish to keep the old behavior (which leads to long initialization times due to scipy/scipy#11299), please set init_weights=True.\n",
            "  warnings.warn(\n",
            "<ipython-input-10-43ea4215c636>:45: FutureWarning: You are using `torch.load` with `weights_only=False` (the current default value), which uses the default pickle module implicitly. It is possible to construct malicious pickle data which will execute arbitrary code during unpickling (See https://github.com/pytorch/pytorch/blob/main/SECURITY.md#untrusted-models for more details). In a future release, the default value for `weights_only` will be flipped to `True`. This limits the functions that could be executed during unpickling. Arbitrary objects will no longer be allowed to be loaded via this mode unless they are explicitly allowlisted by the user via `torch.serialization.add_safe_globals`. We recommend you start setting `weights_only=True` for any use case where you don't have full control of the loaded file. Please open an issue on GitHub for any issues related to this experimental feature.\n",
            "  model.load_state_dict(torch.load('inception_v3_best_model.pth')['model_state_dict'])\n",
            "Evaluating: 100%|██████████| 7/7 [00:53<00:00,  7.62s/it]\n"
          ]
        },
        {
          "output_type": "display_data",
          "data": {
            "text/plain": [
              "<Figure size 800x600 with 2 Axes>"
            ],
            "image/png": "[encoded data removed]"
          },
          "metadata": {}
        },
        {
          "output_type": "stream",
          "name": "stdout",
          "text": [
            "\n",
            "Classification Report:\n",
            "              precision    recall  f1-score   support\n",
            "\n",
            "        Real       0.29      0.10      0.15        50\n",
            "        Fake       0.46      0.76      0.57        50\n",
            "\n",
            "    accuracy                           0.43       100\n",
            "   macro avg       0.38      0.43      0.36       100\n",
            "weighted avg       0.38      0.43      0.36       100\n",
            "\n"
          ]
        }
      ]
    },
    {
      "cell_type": "code",
      "source": [],
      "metadata": {
        "id": "2aWRMF4YcK-F"
      },
      "execution_count": null,
      "outputs": []
    }
  ]
}